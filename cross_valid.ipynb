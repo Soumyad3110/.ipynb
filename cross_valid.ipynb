{
 "cells": [
  {
   "cell_type": "code",
   "execution_count": 1,
   "id": "68983cba",
   "metadata": {},
   "outputs": [],
   "source": [
    "import pandas as pd\n",
    "from sklearn.ensemble import RandomForestClassifier\n",
    "from sklearn.preprocessing import LabelEncoder\n",
    "\n",
    "from sklearn.model_selection import (\n",
    "    KFold, StratifiedKFold, GroupKFold, \n",
    "    LeaveOneOut, LeavePOut, ShuffleSplit, \n",
    "    StratifiedShuffleSplit, cross_val_score\n",
    ")"
   ]
  },
  {
   "cell_type": "code",
   "execution_count": 2,
   "id": "a87b8a94",
   "metadata": {},
   "outputs": [],
   "source": [
    "# Load dataset\n",
    "df = pd.read_csv(r\"C:\\Users\\KIIT\\Downloads\\cleaned_titanic_data.csv\")"
   ]
  },
  {
   "cell_type": "code",
   "execution_count": 3,
   "id": "c984fbc9",
   "metadata": {},
   "outputs": [],
   "source": [
    "# Prepare features and target\n",
    "X = df.drop('Survived', axis=1)\n",
    "y = df['Survived']"
   ]
  },
  {
   "cell_type": "code",
   "execution_count": 4,
   "id": "06f7aa53",
   "metadata": {},
   "outputs": [],
   "source": [
    "# Encode categorical variables if any\n",
    "for col in X.select_dtypes(include=['object', 'category']).columns:\n",
    "    X[col] = LabelEncoder().fit_transform(X[col].astype(str))"
   ]
  },
  {
   "cell_type": "code",
   "execution_count": 5,
   "id": "6cc14d61",
   "metadata": {},
   "outputs": [],
   "source": [
    "# Define the model\n",
    "model = RandomForestClassifier(random_state=42)"
   ]
  },
  {
   "cell_type": "code",
   "execution_count": 6,
   "id": "8676b982",
   "metadata": {},
   "outputs": [
    {
     "name": "stdout",
     "output_type": "stream",
     "text": [
      "K-Fold CV scores: [0.82122905 0.81460674 0.81460674 0.81460674 0.83146067]\n"
     ]
    }
   ],
   "source": [
    "# 1. K-Fold Cross Validation\n",
    "kf = KFold(n_splits=5, shuffle=True, random_state=42)\n",
    "kf_scores = cross_val_score(model, X, y, cv=kf)\n",
    "print(\"K-Fold CV scores:\", kf_scores)"
   ]
  },
  {
   "cell_type": "code",
   "execution_count": 7,
   "id": "48edce3f",
   "metadata": {},
   "outputs": [
    {
     "name": "stdout",
     "output_type": "stream",
     "text": [
      "Stratified K-Fold CV scores: [0.83240223 0.82022472 0.79775281 0.80898876 0.84831461]\n"
     ]
    }
   ],
   "source": [
    "# 2. Stratified K-Fold Cross Validation\n",
    "skf = StratifiedKFold(n_splits=5, shuffle=True, random_state=42)\n",
    "skf_scores = cross_val_score(model, X, y, cv=skf)\n",
    "print(\"Stratified K-Fold CV scores:\", skf_scores)"
   ]
  },
  {
   "cell_type": "code",
   "execution_count": 8,
   "id": "772ed2b6",
   "metadata": {},
   "outputs": [],
   "source": [
    "# 3. Leave-One-Out Cross Validation\n",
    "loo = LeaveOneOut()\n",
    "# loo_scores = cross_val_score(model, X, y, cv=loo)  # Uncomment for small datasets\n",
    "# print(\"Leave-One-Out CV scores:\", loo_scores)"
   ]
  },
  {
   "cell_type": "code",
   "execution_count": 9,
   "id": "4c5d6013",
   "metadata": {},
   "outputs": [],
   "source": [
    "# 4. Leave-P-Out Cross Validation (p=2 for demonstration)\n",
    "lpo = LeavePOut(p=2)\n",
    "# lpo_scores = cross_val_score(model, X, y, cv=lpo)  # Uncomment for very small datasets\n",
    "# print(\"Leave-P-Out CV scores:\", lpo_scores)"
   ]
  },
  {
   "cell_type": "code",
   "execution_count": 10,
   "id": "fc2b37d7",
   "metadata": {},
   "outputs": [
    {
     "name": "stdout",
     "output_type": "stream",
     "text": [
      "Shuffle Split CV scores: [0.81005587 0.82681564 0.80446927 0.82122905 0.82122905]\n"
     ]
    }
   ],
   "source": [
    "# 5. Shuffle Split\n",
    "ss = ShuffleSplit(n_splits=5, test_size=0.2, random_state=42)\n",
    "ss_scores = cross_val_score(model, X, y, cv=ss)\n",
    "print(\"Shuffle Split CV scores:\", ss_scores)"
   ]
  },
  {
   "cell_type": "code",
   "execution_count": 11,
   "id": "7b0eea5a",
   "metadata": {},
   "outputs": [
    {
     "name": "stdout",
     "output_type": "stream",
     "text": [
      "Stratified Shuffle Split CV scores: [0.81564246 0.78212291 0.77094972 0.81564246 0.78212291]\n"
     ]
    }
   ],
   "source": [
    "# 6. Stratified Shuffle Split\n",
    "sss = StratifiedShuffleSplit(n_splits=5, test_size=0.2, random_state=42)\n",
    "sss_scores = cross_val_score(model, X, y, cv=sss)\n",
    "print(\"Stratified Shuffle Split CV scores:\", sss_scores)"
   ]
  },
  {
   "cell_type": "code",
   "execution_count": 12,
   "id": "4937b7a3",
   "metadata": {},
   "outputs": [
    {
     "name": "stdout",
     "output_type": "stream",
     "text": [
      "Group K-Fold CV not performed (no 'group' column).\n"
     ]
    }
   ],
   "source": [
    "# 7. Group K-Fold (if 'group' column exists)\n",
    "if 'group' in df.columns:\n",
    "    gkf = GroupKFold(n_splits=5)\n",
    "    groups = df['group']\n",
    "    gkf_scores = cross_val_score(model, X, y, groups=groups, cv=gkf)\n",
    "else:\n",
    "    gkf_scores = None\n",
    "if gkf_scores is not None:\n",
    "    print(\"Group K-Fold CV scores:\", gkf_scores)\n",
    "else:\n",
    "    print(\"Group K-Fold CV not performed (no 'group' column).\")"
   ]
  },
  {
   "cell_type": "code",
   "execution_count": null,
   "id": "4d1f5775",
   "metadata": {},
   "outputs": [],
   "source": []
  },
  {
   "cell_type": "code",
   "execution_count": null,
   "id": "e1f7e161",
   "metadata": {},
   "outputs": [],
   "source": []
  }
 ],
 "metadata": {
  "kernelspec": {
   "display_name": "Python 3",
   "language": "python",
   "name": "python3"
  },
  "language_info": {
   "codemirror_mode": {
    "name": "ipython",
    "version": 3
   },
   "file_extension": ".py",
   "mimetype": "text/x-python",
   "name": "python",
   "nbconvert_exporter": "python",
   "pygments_lexer": "ipython3",
   "version": "3.13.3"
  }
 },
 "nbformat": 4,
 "nbformat_minor": 5
}
