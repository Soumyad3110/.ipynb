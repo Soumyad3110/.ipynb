{
 "cells": [
  {
   "cell_type": "code",
   "execution_count": 1,
   "id": "1ce35d8f",
   "metadata": {},
   "outputs": [],
   "source": [
    "# NUMPY SPECIAL OPERATIONS\n",
    "# Import libraries\n",
    "\n",
    "import numpy as np\n",
    "\n",
    "# numpy array is homogenous, whereas python list is heterogenous"
   ]
  },
  {
   "cell_type": "code",
   "execution_count": 22,
   "id": "1ffc2571",
   "metadata": {},
   "outputs": [
    {
     "name": "stdout",
     "output_type": "stream",
     "text": [
      "Shape of array 1 (3, 2, 3)\n",
      "Shape of array 2 (2, 2, 3)\n",
      "Concatenated array 1 and array 2: \n",
      " [[[ 1  2  3]\n",
      "  [ 4  5  6]]\n",
      "\n",
      " [[ 7  8  9]\n",
      "  [10 11 12]]\n",
      "\n",
      " [[13 14 15]\n",
      "  [16 17 18]]\n",
      "\n",
      " [[19 20 21]\n",
      "  [22 23 24]]\n",
      "\n",
      " [[25 26 27]\n",
      "  [28 29 30]]]\n",
      "Shape of concatenated array 1 and array 2: \n",
      " (5, 2, 3)\n"
     ]
    }
   ],
   "source": [
    "arr1= np.array([[[1,2,3],[4,5,6]],[[7,8,9],[10,11,12]], [[13,14,15],[16,17,18]]]) # declaring array 1\n",
    "arr2= np.array([[[19,20,21],[22,23,24]],[[25,26,27],[28,29,30]]]) # declaring array 2\n",
    "print(\"Shape of array 1\",arr1.shape) # shape of the array\n",
    "print(\"Shape of array 2\",arr2.shape)  # shape of the array\n",
    "print(\"Concatenated array 1 and array 2: \\n\",np.concatenate((arr1,arr2), axis=0)) # concatenate two arrays\n",
    "print(\"Shape of concatenated array 1 and array 2: \\n\",np.concatenate((arr1,arr2), axis=0).shape) # concatenate two arrays\n",
    "# axis=0 → Operate along rows (apply the function to each column)."
   ]
  },
  {
   "cell_type": "code",
   "execution_count": 3,
   "id": "f7b16534",
   "metadata": {},
   "outputs": [],
   "source": [
    "# Creating two 3D numpy arrays with compatible shapes\n",
    "\n",
    "arr3 = np.array([[[1, 2, 3], [4, 5, 6]], [[7, 8, 9], [10, 11, 12]]])\n",
    "arr4= np.array([[[19, 20, 21], [22, 23, 24]], [[25, 26, 27], [28, 29, 30]]])"
   ]
  },
  {
   "cell_type": "code",
   "execution_count": 4,
   "metadata": {},
   "outputs": [
    {
     "name": "stdout",
     "output_type": "stream",
     "text": [
      "Shape of array 3 (2, 2, 3)\n",
      "Shape of array 4 (2, 2, 3)\n"
     ]
    }
   ],
   "source": [
    "# Printing the shape of the arrays\n",
    "\n",
    "print(\"Shape of array 3\",arr3.shape) # shape of the array\n",
    "print(\"Shape of array 4\",arr4.shape)  # shape of the array"
   ]
  },
  {
   "cell_type": "code",
   "execution_count": 5,
   "id": "de24087d",
   "metadata": {},
   "outputs": [
    {
     "name": "stdout",
     "output_type": "stream",
     "text": [
      "[[[20 22 24]\n",
      "  [26 28 30]]\n",
      "\n",
      " [[32 34 36]\n",
      "  [38 40 42]]]\n"
     ]
    }
   ],
   "source": [
    "# Adding the two arrays\n",
    "\n",
    "print(arr3 + arr4)"
   ]
  },
  {
   "cell_type": "code",
   "execution_count": 6,
   "id": "57693459",
   "metadata": {},
   "outputs": [
    {
     "name": "stdout",
     "output_type": "stream",
     "text": [
      "Shape of concatenated array 3 and array 4 (2, 4, 3)\n",
      "The array is [[[   1    2    3    4    5    6    7    8    4 8768   78   88]]]\n",
      "The shape of the array is (1, 1, 12)\n"
     ]
    }
   ],
   "source": [
    "# Concatenating the two arrays along the first axis\n",
    "\n",
    "print(\"Shape of concatenated array 3 and array 4\",np.concatenate((arr3, arr4), axis=1).shape)  \n",
    "# axis=1 → Operate along columns (apply the function to each row).\n",
    "arr5=np.array([[[1,2,3,4,5,6,7,8,4,8768,78,88]]])\n",
    "print(\"The array is\",arr5)\n",
    "print(\"The shape of the array is\",arr5.shape)"
   ]
  },
  {
   "cell_type": "code",
   "execution_count": 7,
   "id": "9517b006",
   "metadata": {},
   "outputs": [
    {
     "name": "stdout",
     "output_type": "stream",
     "text": [
      "[[0. 0. 0.]\n",
      " [0. 0. 0.]\n",
      " [0. 0. 0.]]\n"
     ]
    }
   ],
   "source": [
    "# Creating a 3x3 array of zeros\n",
    "\n",
    "arr1 = np.zeros([3, 3]) \n",
    "print(arr1)"
   ]
  },
  {
   "cell_type": "code",
   "execution_count": 8,
   "id": "ce885e47",
   "metadata": {},
   "outputs": [
    {
     "name": "stdout",
     "output_type": "stream",
     "text": [
      "[[1. 1. 1.]\n",
      " [1. 1. 1.]\n",
      " [1. 1. 1.]]\n",
      "[['Soumya' 'Soumya' 'Soumya']\n",
      " ['Soumya' 'Soumya' 'Soumya']\n",
      " ['Soumya' 'Soumya' 'Soumya']]\n",
      "[ 1  5  9 13 17 21 25 29 33 37 41 45 49 53 57 61 65 69 73 77 81 85 89 93\n",
      " 97]\n"
     ]
    }
   ],
   "source": [
    "# Creating a 3x3 array of ones\n",
    "\n",
    "arr2 = np.ones([3, 3])\n",
    "print(arr2)\n",
    "\n",
    "arr3=np.full([3,3],'Soumya')\n",
    "print(arr3)\n",
    "\n",
    "arr4=np.arange(1,101,4)\n",
    "print(arr4)"
   ]
  },
  {
   "cell_type": "code",
   "execution_count": 9,
   "id": "3812de0f",
   "metadata": {},
   "outputs": [
    {
     "name": "stdout",
     "output_type": "stream",
     "text": [
      "[93 51 83 66 93 50]\n"
     ]
    }
   ],
   "source": [
    "\n",
    "# NUMPY RANDOM OPERATIONS\n",
    "\n",
    "from numpy import random\n",
    "\n",
    "arr5=random.randint(50,100,size=6)\n",
    "print(arr5)"
   ]
  },
  {
   "cell_type": "code",
   "execution_count": 10,
   "id": "ba314608",
   "metadata": {},
   "outputs": [
    {
     "name": "stdout",
     "output_type": "stream",
     "text": [
      "[[59 53 92]\n",
      " [64 55 58]\n",
      " [80 50 64]]\n"
     ]
    }
   ],
   "source": [
    "arr6=random.randint(50,100,size=(3,3))\n",
    "print(arr6)"
   ]
  },
  {
   "cell_type": "code",
   "execution_count": 11,
   "id": "25037794",
   "metadata": {},
   "outputs": [
    {
     "name": "stdout",
     "output_type": "stream",
     "text": [
      "[0.47721508]\n"
     ]
    }
   ],
   "source": [
    "arr7=random.rand(1)\n",
    "print(arr7)"
   ]
  },
  {
   "cell_type": "code",
   "execution_count": 12,
   "id": "148538f4",
   "metadata": {},
   "outputs": [
    {
     "name": "stdout",
     "output_type": "stream",
     "text": [
      "[[[0.24256392 0.30754828 0.47291755 0.58313368]\n",
      "  [0.62770156 0.49779161 0.7571068  0.03890479]\n",
      "  [0.16967134 0.1210235  0.47874627 0.05700443]]\n",
      "\n",
      " [[0.62430381 0.61838509 0.85198466 0.36438823]\n",
      "  [0.20500604 0.2390048  0.46435418 0.40450451]\n",
      "  [0.87049078 0.76822503 0.15455029 0.03193748]]\n",
      "\n",
      " [[0.56194393 0.18551231 0.44102782 0.86066329]\n",
      "  [0.91460527 0.07887928 0.7775929  0.77566356]\n",
      "  [0.54671561 0.07745105 0.89754783 0.18710699]]\n",
      "\n",
      " [[0.23991613 0.45178349 0.81878681 0.02928563]\n",
      "  [0.69665847 0.85432071 0.07653981 0.70923183]\n",
      "  [0.78502976 0.95630228 0.63236238 0.25150732]]]\n"
     ]
    }
   ],
   "source": [
    "arr8=random.rand(4,3,4)\n",
    "print(arr8)"
   ]
  },
  {
   "cell_type": "code",
   "execution_count": 13,
   "id": "d3d84eca",
   "metadata": {},
   "outputs": [
    {
     "name": "stdout",
     "output_type": "stream",
     "text": [
      "[10.06421158 18.49586957 18.38956786 18.06040426 10.16142314 10.28001756\n",
      " 16.30235857]\n"
     ]
    }
   ],
   "source": [
    "arr9=random.uniform(10,20,size=7)\n",
    "print(arr9)"
   ]
  },
  {
   "cell_type": "code",
   "execution_count": 14,
   "id": "f378ae7d",
   "metadata": {},
   "outputs": [
    {
     "name": "stdout",
     "output_type": "stream",
     "text": [
      "[[54  3 24  5]\n",
      " [54  1  4  4]\n",
      " [ 4  3 24  5]\n",
      " [ 4  3  3 54]]\n"
     ]
    }
   ],
   "source": [
    "arr10=random.choice([1,4,5,3,24,54,3],size=(4,4))\n",
    "print(arr10)"
   ]
  },
  {
   "cell_type": "code",
   "execution_count": 15,
   "id": "c4943eab",
   "metadata": {},
   "outputs": [
    {
     "name": "stdout",
     "output_type": "stream",
     "text": [
      "[   1   16   81  256  625 2401]\n",
      "6\n"
     ]
    }
   ],
   "source": [
    "arr11=np.array([1,2,3,4,5,7])**4\n",
    "print(arr11)\n",
    "print(len(arr11))\n"
   ]
  },
  {
   "cell_type": "code",
   "execution_count": 16,
   "id": "7bdf9164",
   "metadata": {},
   "outputs": [
    {
     "name": "stdout",
     "output_type": "stream",
     "text": [
      "22\n"
     ]
    }
   ],
   "source": [
    "arr12=np.sum([1,2,3,4,5,7])\n",
    "print(arr12)"
   ]
  },
  {
   "cell_type": "code",
   "execution_count": 17,
   "id": "01996f5d",
   "metadata": {},
   "outputs": [
    {
     "name": "stdout",
     "output_type": "stream",
     "text": [
      "3.5\n"
     ]
    }
   ],
   "source": [
    "arr13=np.median([1,2,3,4,5,7])\n",
    "print(arr13)"
   ]
  },
  {
   "cell_type": "code",
   "execution_count": 18,
   "id": "5abecb78",
   "metadata": {},
   "outputs": [
    {
     "name": "stdout",
     "output_type": "stream",
     "text": [
      "3.5\n"
     ]
    }
   ],
   "source": [
    "arr14=np.median([1,2,3,4,5,7])\n",
    "print(arr14)"
   ]
  },
  {
   "cell_type": "code",
   "execution_count": 19,
   "metadata": {},
   "outputs": [
    {
     "name": "stdout",
     "output_type": "stream",
     "text": [
      "1.9720265943665387\n"
     ]
    }
   ],
   "source": [
    "arr15=np.std([1,2,3,4,5,7])\n",
    "print(arr15)"
   ]
  },
  {
   "cell_type": "code",
   "execution_count": 20,
   "id": "623e1845",
   "metadata": {},
   "outputs": [
    {
     "name": "stdout",
     "output_type": "stream",
     "text": [
      "3.8888888888888893\n"
     ]
    }
   ],
   "source": [
    "arr16=np.var([1,2,3,4,5,7])\n",
    "print(arr16)"
   ]
  }
 ],
 "metadata": {
  "kernelspec": {
   "display_name": "base",
   "language": "python",
   "name": "python3"
  },
  "language_info": {
   "codemirror_mode": {
    "name": "ipython",
    "version": 3
   },
   "file_extension": ".py",
   "mimetype": "text/x-python",
   "name": "python",
   "nbconvert_exporter": "python",
   "pygments_lexer": "ipython3",
   "version": "3.12.7"
  }
 },
 "nbformat": 4,
 "nbformat_minor": 5
}
