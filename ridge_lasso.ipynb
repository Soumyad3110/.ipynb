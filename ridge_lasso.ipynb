{
 "cells": [
  {
   "cell_type": "code",
   "execution_count": 6,
   "id": "582a8eeb",
   "metadata": {},
   "outputs": [],
   "source": [
    "import numpy as np\n",
    "import pandas as pd\n",
    "import matplotlib.pyplot as plt\n",
    "import seaborn as sns\n",
    "\n",
    "import sklearn\n",
    "from sklearn.model_selection import train_test_split\n",
    "from sklearn.linear_model import LinearRegression, Lasso, Ridge\n",
    "from sklearn.metrics import mean_squared_error, mean_absolute_error, r2_score"
   ]
  },
  {
   "cell_type": "code",
   "execution_count": 7,
   "id": "55cd44db",
   "metadata": {},
   "outputs": [],
   "source": [
    "# Load the data\n",
    "df = pd.read_csv('C:/Users/KIIT/Downloads/Melbourne_housing_cleaned.csv')\n",
    "X=df.drop('Price',axis=1)\n",
    "y = df['Price']\n",
    "\n",
    "X_train,X_test,y_train,y_test=train_test_split(X, y, test_size=0.2, random_state=42)"
   ]
  },
  {
   "cell_type": "code",
   "execution_count": 8,
   "id": "e2004ef3",
   "metadata": {},
   "outputs": [
    {
     "name": "stdout",
     "output_type": "stream",
     "text": [
      "LinearRegression()\n",
      "0.6777287226740718\n",
      "-911150627.1296724\n",
      "                                        Coefficient/slope/Weight\n",
      "Rooms                                               2.667248e+05\n",
      "Propertycount                                       2.251584e+08\n",
      "Distance                                           -4.536253e+04\n",
      "Bedroom2                                           -8.746552e+04\n",
      "Bathroom                                            1.337344e+05\n",
      "...                                                          ...\n",
      "CouncilArea_Whitehorse City Council                -3.028692e+12\n",
      "CouncilArea_Whittlesea City Council                 1.387398e+12\n",
      "CouncilArea_Wyndham City Council                   -7.254870e+12\n",
      "CouncilArea_Yarra City Council                     -1.022693e+13\n",
      "CouncilArea_Yarra Ranges Shire Council             -3.855276e+12\n",
      "\n",
      "[744 rows x 1 columns]\n"
     ]
    }
   ],
   "source": [
    "#Linear Regression\n",
    "lr=LinearRegression()\n",
    "print(lr.fit(X_train,y_train))\n",
    "print(lr.score(X_train,y_train))\n",
    "print(lr.score(X_test,y_test))\n",
    "linear_coef_df = pd.DataFrame(lr.coef_, index=X.columns, columns=['Coefficient/slope/Weight'])\n",
    "print(linear_coef_df)"
   ]
  },
  {
   "cell_type": "code",
   "execution_count": 9,
   "id": "0c7d717e",
   "metadata": {},
   "outputs": [
    {
     "name": "stdout",
     "output_type": "stream",
     "text": [
      "Ridge(alpha=1, max_iter=1000, tol=0.1)\n",
      "0.6770812533382132\n",
      "0.6836078381305952\n",
      "                                        Coefficient/slope/Weight\n",
      "Rooms                                              266359.970811\n",
      "Propertycount                                           1.627933\n",
      "Distance                                           -37748.813647\n",
      "Bedroom2                                           -87214.487008\n",
      "Bathroom                                           133735.516795\n",
      "...                                                          ...\n",
      "CouncilArea_Whitehorse City Council                 85330.289327\n",
      "CouncilArea_Whittlesea City Council                -40439.901323\n",
      "CouncilArea_Wyndham City Council                  -216153.683939\n",
      "CouncilArea_Yarra City Council                      42114.272435\n",
      "CouncilArea_Yarra Ranges Shire Council              -9561.443594\n",
      "\n",
      "[744 rows x 1 columns]\n"
     ]
    }
   ],
   "source": [
    "#Ridge Regression\n",
    "# Ridge Regression (L2 Regularization)\n",
    "# Ridge regression adds a penalty term (alpha * sum of squared coefficients) to the linear regression\n",
    "# cost function to prevent overfitting. The alpha parameter controls the strength of regularization.\n",
    "# Higher alpha values mean stronger regularization and smaller coefficients.\n",
    "\n",
    "ridge=Ridge(alpha=1,max_iter=1000,tol=0.1)\n",
    "print(ridge.fit(X_train,y_train))\n",
    "print(ridge.score(X_train,y_train))\n",
    "print(ridge.score(X_test,y_test))\n",
    "ridge_coef_df = pd.DataFrame(ridge.coef_, index=X.columns, columns=['Coefficient/slope/Weight'])\n",
    "print(ridge_coef_df)"
   ]
  },
  {
   "cell_type": "code",
   "execution_count": 10,
   "id": "556e950b",
   "metadata": {},
   "outputs": [
    {
     "name": "stdout",
     "output_type": "stream",
     "text": [
      "Lasso(alpha=50, tol=0.1)\n",
      "0.6733711945785643\n",
      "0.6844417674888559\n",
      "                                        Coefficient/slope/Weight\n",
      "Rooms                                              265473.992832\n",
      "Propertycount                                           3.654652\n",
      "Distance                                           -29051.448846\n",
      "Bedroom2                                           -86875.665197\n",
      "Bathroom                                           134328.335810\n",
      "...                                                          ...\n",
      "CouncilArea_Whitehorse City Council                 35793.817211\n",
      "CouncilArea_Whittlesea City Council               -108967.325100\n",
      "CouncilArea_Wyndham City Council                  -250122.276479\n",
      "CouncilArea_Yarra City Council                     144952.921547\n",
      "CouncilArea_Yarra Ranges Shire Council                 -0.000000\n",
      "\n",
      "[744 rows x 1 columns]\n"
     ]
    }
   ],
   "source": [
    "# Lasso Regression (L1 Regularization)\n",
    "# Lasso regression adds a penalty term (alpha * sum of absolute coefficients) to the linear regression\n",
    "# cost function to prevent overfitting. The alpha parameter controls the strength of regularization.\n",
    "# Higher alpha values mean stronger regularization.\n",
    "# Lasso can reduce coefficients to exactly zero, effectively performing feature selection.\n",
    "\n",
    "lasso=Lasso(alpha=50,max_iter=1000,tol=0.1)\n",
    "print(lasso.fit(X_train,y_train))\n",
    "print(lasso.score(X_train,y_train))\n",
    "print(lasso.score(X_test,y_test))\n",
    "lasso_coef_df = pd.DataFrame(lasso.coef_, index=X.columns, columns=['Coefficient/slope/Weight'])\n",
    "print(lasso_coef_df)"
   ]
  }
 ],
 "metadata": {
  "kernelspec": {
   "display_name": "base",
   "language": "python",
   "name": "python3"
  },
  "language_info": {
   "codemirror_mode": {
    "name": "ipython",
    "version": 3
   },
   "file_extension": ".py",
   "mimetype": "text/x-python",
   "name": "python",
   "nbconvert_exporter": "python",
   "pygments_lexer": "ipython3",
   "version": "3.12.7"
  }
 },
 "nbformat": 4,
 "nbformat_minor": 5
}
