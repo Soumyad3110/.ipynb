{
 "cells": [
  {
   "cell_type": "code",
   "execution_count": 18,
   "metadata": {},
   "outputs": [],
   "source": [
    "import numpy as np\n",
    "import pandas as pd\n",
    "import matplotlib.pyplot as plt\n",
    "import seaborn as sns\n",
    "from scipy import stats\n",
    "from sklearn.model_selection import train_test_split\n",
    "from sklearn.linear_model import LogisticRegression\n",
    "from sklearn.metrics import confusion_matrix, accuracy_score, classification_report"
   ]
  },
  {
   "cell_type": "code",
   "execution_count": 19,
   "id": "12bb423f",
   "metadata": {},
   "outputs": [
    {
     "name": "stdout",
     "output_type": "stream",
     "text": [
      "Index(['Survived', 'Pclass', 'Age', 'SibSp', 'Parch', 'Fare', 'Gender'], dtype='object')\n",
      "     Pclass        Age  SibSp  Parch     Fare  Gender\n",
      "0         3  22.000000      1      0   7.2500       1\n",
      "1         1  38.000000      1      0  71.2833       0\n",
      "2         3  26.000000      0      0   7.9250       0\n",
      "3         1  35.000000      1      0  53.1000       0\n",
      "4         3  35.000000      0      0   8.0500       1\n",
      "..      ...        ...    ...    ...      ...     ...\n",
      "886       2  27.000000      0      0  13.0000       1\n",
      "887       1  19.000000      0      0  30.0000       0\n",
      "888       3  29.699118      1      2  23.4500       0\n",
      "889       1  26.000000      0      0  30.0000       1\n",
      "890       3  32.000000      0      0   7.7500       1\n",
      "\n",
      "[891 rows x 6 columns]\n",
      "     Survived\n",
      "0           0\n",
      "1           1\n",
      "2           1\n",
      "3           1\n",
      "4           0\n",
      "..        ...\n",
      "886         0\n",
      "887         1\n",
      "888         0\n",
      "889         1\n",
      "890         0\n",
      "\n",
      "[891 rows x 1 columns]\n",
      "   Survived  Pclass   Age  SibSp  Parch     Fare  Gender\n",
      "0         0       3  22.0      1      0   7.2500       1\n",
      "1         1       1  38.0      1      0  71.2833       0\n",
      "2         1       3  26.0      0      0   7.9250       0\n",
      "3         1       1  35.0      1      0  53.1000       0\n",
      "4         0       3  35.0      0      0   8.0500       1\n",
      "(891, 7)\n"
     ]
    }
   ],
   "source": [
    "# Load dataset\n",
    "df = pd.read_csv(\"C:/Users/KIIT/Downloads/cleaned_titanic_data.csv\")\n",
    "print(df.columns)\n",
    "X=df.drop(columns='Survived',axis=1)\n",
    "y=df[['Survived']]\n",
    "print(X)\n",
    "print(y)\n",
    "print(df.head())\n",
    "print(df.shape)"
   ]
  },
  {
   "cell_type": "code",
   "execution_count": 20,
   "metadata": {},
   "outputs": [
    {
     "name": "stdout",
     "output_type": "stream",
     "text": [
      "No of values of 'Survived' are present: \n",
      "Survived\n",
      "0           549\n",
      "1           342\n",
      "Name: count, dtype: int64\n",
      "0.62\n",
      "0.38\n",
      "Simple random sampling: \n",
      "     Survived  Pclass        Age  SibSp  Parch      Fare  Gender\n",
      "357         0       2  38.000000      0      0   13.0000       0\n",
      "25          1       3  38.000000      1      5   31.3875       0\n",
      "502         0       3  29.699118      0      0    7.6292       0\n",
      "215         1       1  31.000000      1      0  113.2750       0\n",
      "530         1       2   2.000000      1      1   26.0000       0\n",
      "394         1       3  24.000000      0      2   16.7000       0\n",
      "146         1       3  27.000000      0      0    7.7958       1\n",
      "532         0       3  17.000000      1      1    7.2292       1\n",
      "352         0       3  15.000000      1      1    7.2292       1\n",
      "56          1       2  21.000000      0      0   10.5000       0\n",
      "23          1       1  28.000000      0      0   35.5000       1\n",
      "620         0       3  27.000000      1      0   14.4542       1\n",
      "380         1       1  42.000000      0      0  227.5250       0\n",
      "22          1       3  15.000000      0      0    8.0292       0\n",
      "695         0       2  52.000000      0      0   13.5000       1\n",
      "Systematic sampling: \n",
      "      Survived  Pclass        Age  SibSp  Parch      Fare  Gender\n",
      "0           0       3  22.000000      1      0    7.2500       1\n",
      "15          1       2  55.000000      0      0   16.0000       0\n",
      "30          0       1  40.000000      0      0   27.7208       1\n",
      "45          0       3  29.699118      0      0    8.0500       1\n",
      "60          0       3  22.000000      0      0    7.2292       1\n",
      "75          0       3  25.000000      0      0    7.6500       1\n",
      "90          0       3  29.000000      0      0    8.0500       1\n",
      "105         0       3  28.000000      0      0    7.8958       1\n",
      "120         0       2  21.000000      2      0   73.5000       1\n",
      "135         0       2  23.000000      0      0   15.0458       1\n",
      "150         0       2  51.000000      0      0   12.5250       1\n",
      "165         1       3   9.000000      0      2   20.5250       1\n",
      "180         0       3  29.699118      8      2   69.5500       0\n",
      "195         1       1  58.000000      0      0  146.5208       0\n",
      "210         0       3  24.000000      0      0    7.0500       1\n",
      "Stratified sampling: \n",
      "     Survived  Pclass    Age  SibSp  Parch      Fare  Gender\n",
      "803         1       3   0.42      0      1    8.5167       1\n",
      "755         1       2   0.67      1      1   14.5000       1\n",
      "469         1       3   0.75      2      1   19.2583       0\n",
      "831         1       2   0.83      1      1   18.7500       1\n",
      "305         1       1   0.92      1      2  151.5500       1\n",
      "..        ...     ...    ...    ...    ...       ...     ...\n",
      "745         0       1  70.00      1      1   71.0000       1\n",
      "116         0       3  70.50      0      0    7.7500       1\n",
      "96          0       1  71.00      0      0   34.6542       1\n",
      "851         0       3  74.00      0      0    7.7750       1\n",
      "630         1       1  80.00      0      0   30.0000       1\n",
      "\n",
      "[89 rows x 7 columns]\n",
      "Cluster sampling: \n",
      "     Survived  Pclass        Age  SibSp  Parch     Fare  Gender Age_cluster\n",
      "1           1       1  38.000000      1      0  71.2833       0          Q4\n",
      "2           1       3  26.000000      0      0   7.9250       0          Q2\n",
      "5           0       3  29.699118      0      0   8.4583       1          Q2\n",
      "6           0       1  54.000000      0      0  51.8625       1          Q4\n",
      "8           1       3  27.000000      0      2  11.1333       0          Q2\n",
      "..        ...     ...        ...    ...    ...      ...     ...         ...\n",
      "884         0       3  25.000000      0      0   7.0500       1          Q2\n",
      "885         0       3  39.000000      0      5  29.1250       0          Q4\n",
      "886         0       2  27.000000      0      0  13.0000       1          Q2\n",
      "888         0       3  29.699118      1      2  23.4500       0          Q2\n",
      "889         1       1  26.000000      0      0  30.0000       1          Q2\n",
      "\n",
      "[547 rows x 8 columns]\n"
     ]
    },
    {
     "name": "stderr",
     "output_type": "stream",
     "text": [
      "C:\\Users\\KIIT\\AppData\\Local\\Temp\\ipykernel_19364\\3205491171.py:18: DeprecationWarning: DataFrameGroupBy.apply operated on the grouping columns. This behavior is deprecated, and in a future version of pandas the grouping columns will be excluded from the operation. Either pass `include_groups=False` to exclude the groupings or explicitly select the grouping columns after groupby to silence this warning.\n",
      "  stratified_sample = df.groupby('Age', group_keys=False).apply(lambda x: x.sample(n=min_size))\n"
     ]
    }
   ],
   "source": [
    "# Imbalance Data\n",
    "print(f\"No of values of 'Survived' are present: \\n{df[['Survived']].value_counts()}\")\n",
    "print(round(len(df[df['Survived']==0])/len(df),2))\n",
    "print(round(len(df[df['Survived']==1])/len(df),2))\n",
    "\n",
    "# Simple Random Sampling\n",
    "n = 15\n",
    "sample_df = df.sample(n)\n",
    "print(f\"Simple random sampling: \\n{sample_df}\")\n",
    "\n",
    "# Systematic Sampling\n",
    "n = 15\n",
    "systematic_sample = df.iloc[::n].head(n)\n",
    "print(f\"Systematic sampling: \\n {systematic_sample}\")\n",
    "\n",
    "# Startified sampling\n",
    "min_size = df.groupby('Age').size().min()\n",
    "stratified_sample = df.groupby('Age', group_keys=False).apply(lambda x: x.sample(n=min_size))\n",
    "print(f\"Stratified sampling: \\n{stratified_sample}\")\n",
    "\n",
    "# Cluster sampling\n",
    "df['Age_cluster'] = pd.qcut(df['Age'], q=4, labels=['Q1', 'Q2', 'Q3', 'Q4'])\n",
    "selected_clusters = np.random.choice(df['Age_cluster'].unique(), size=2, replace=False)\n",
    "cluster_sample = df[df['Age_cluster'].isin(selected_clusters)]\n",
    "print(f\"Cluster sampling: \\n{cluster_sample}\")"
   ]
  },
  {
   "cell_type": "code",
   "execution_count": 21,
   "id": "7d02eb6f",
   "metadata": {},
   "outputs": [
    {
     "name": "stdout",
     "output_type": "stream",
     "text": [
      "1.190702017006745\n",
      "Lower boundary for outliers: -2.3005331053821907\n",
      "Upper boundary for outliers: 2.462274962644789\n",
      "Number of outliers: 1\n",
      "Outliers: [2.55073043]\n"
     ]
    },
    {
     "data": {
      "image/png": "[encoded data removed]",
      "text/plain": [
       "<Figure size 1000x600 with 1 Axes>"
      ]
     },
     "metadata": {},
     "output_type": "display_data"
    }
   ],
   "source": [
    "# Interquartile range\n",
    "df = np.random.normal(loc=0, scale = 1, size =100)\n",
    "Q1 = np.percentile(df, 25)\n",
    "Q3 = np.percentile(df, 75)\n",
    "IQR = Q3 - Q1 \n",
    "print(IQR)\n",
    "\n",
    "# Calculate upper and lower boundaries for outliers\n",
    "lower_boundary = Q1 - 1.5 * IQR\n",
    "upper_boundary = Q3 + 1.5 * IQR\n",
    "\n",
    "print(\"Lower boundary for outliers:\", lower_boundary)\n",
    "print(\"Upper boundary for outliers:\", upper_boundary)\n",
    "\n",
    "# Find outliers\n",
    "outliers = df[(df < lower_boundary) | (df > upper_boundary)]\n",
    "print(\"Number of outliers:\", len(outliers))\n",
    "print(\"Outliers:\", outliers)\n",
    "\n",
    "# Create a box plot using seaborn\n",
    "plt.figure(figsize=(10, 6))\n",
    "sns.boxplot(data=df, color='grey')\n",
    "plt.title('Box Plot for Outlier Detection')\n",
    "plt.ylabel('Values')\n",
    "plt.show()\n"
   ]
  },
  {
   "cell_type": "code",
   "execution_count": 27,
   "id": "0f5c71df",
   "metadata": {},
   "outputs": [
    {
     "name": "stdout",
     "output_type": "stream",
     "text": [
      "Pclass - Fare: -0.55\n",
      "Fare - Pclass: -0.55\n"
     ]
    }
   ],
   "source": [
    "# Compute correlation matrix for numeric columns if not already defined\n",
    "if 'correlation_matrix' not in locals():\n",
    "    correlation_matrix = df.select_dtypes(include=[np.number]).corr()\n",
    "\n",
    "threshold = 0.5  # Lower the threshold to see more correlated pairs\n",
    "high_corr_features = np.where(np.abs(correlation_matrix) > threshold)\n",
    "high_corr_features = [(correlation_matrix.index[x], correlation_matrix.columns[y], correlation_matrix.iloc[x, y]) for x, y in zip(*high_corr_features) if x != y]\n",
    "for feat1, feat2, corr in high_corr_features:\n",
    "    print(f\"{feat1} - {feat2}: {corr:.2f}\")\n"
   ]
  },
  {
   "cell_type": "code",
   "execution_count": 28,
   "id": "b3522721",
   "metadata": {},
   "outputs": [
    {
     "data": {
      "image/png": "[encoded data removed]",
      "text/plain": [
       "<Figure size 1000x800 with 2 Axes>"
      ]
     },
     "metadata": {},
     "output_type": "display_data"
    }
   ],
   "source": [
    "# Visualize correlation matrix for selected features\n",
    "plt.figure(figsize=(10, 8))\n",
    "sns.heatmap(correlation_matrix[abs(correlation_matrix) > threshold], annot=True, cmap='coolwarm')\n",
    "plt.title('Correlation Matrix (Selected Features)')\n",
    "plt.show()"
   ]
  },
  {
   "cell_type": "code",
   "execution_count": 31,
   "id": "3da5fc9b",
   "metadata": {},
   "outputs": [
    {
     "name": "stdout",
     "output_type": "stream",
     "text": [
      "\n",
      "Sample Statistics:\n",
      "Sample Size: 891\n",
      "Mean Fare: $32.20\n",
      "Critical Value: 1.9626\n"
     ]
    }
   ],
   "source": [
    "# Calculate confidence interval for mean Fare\n",
    "\n",
    "# Calculate mean and standard error for Pclass\n",
    "mean_pclass = np.mean(X['Pclass'])\n",
    "std_error_pclass = stats.sem(X['Pclass'])\n",
    "\n",
    "# Calculate sample size, mean, and critical value for Fare\n",
    "sample_size = len(X['Fare'])\n",
    "mean_fare = X['Fare'].mean()\n",
    "\n",
    "# Calculate critical value for 95% confidence level\n",
    "critical_value = stats.t.ppf(0.975, df=sample_size-1)  # 0.975 because it's two-tailed test\n",
    "print(\"\\nSample Statistics:\")\n",
    "print(f\"Sample Size: {sample_size}\")\n",
    "print(f\"Mean Fare: ${mean_fare:.2f}\")\n",
    "print(f\"Critical Value: {critical_value:.4f}\")"
   ]
  },
  {
   "cell_type": "code",
   "execution_count": 10,
   "id": "e7b7126a",
   "metadata": {},
   "outputs": [
    {
     "name": "stdout",
     "output_type": "stream",
     "text": [
      "     Pclass        Age  SibSp  Parch      Fare  Gender\n",
      "445       1   4.000000      0      2   81.8583       1\n",
      "650       3  29.699118      0      0    7.8958       1\n",
      "172       3   1.000000      1      1   11.1333       0\n",
      "450       2  36.000000      1      2   27.7500       1\n",
      "314       2  43.000000      1      1   26.2500       1\n",
      "..      ...        ...    ...    ...       ...     ...\n",
      "106       3  21.000000      0      0    7.6500       0\n",
      "270       1  29.699118      0      0   31.0000       1\n",
      "860       3  41.000000      2      0   14.1083       1\n",
      "435       1  14.000000      1      2  120.0000       0\n",
      "102       1  21.000000      0      1   77.2875       1\n",
      "\n",
      "[623 rows x 6 columns]\n",
      "     Pclass        Age  SibSp  Parch     Fare  Gender\n",
      "709       3  29.699118      1      1  15.2458       1\n",
      "439       2  31.000000      0      0  10.5000       1\n",
      "840       3  20.000000      0      0   7.9250       1\n",
      "720       2   6.000000      0      1  33.0000       0\n",
      "39        3  14.000000      1      0  11.2417       0\n",
      "..      ...        ...    ...    ...      ...     ...\n",
      "821       3  27.000000      0      0   8.6625       1\n",
      "633       1  29.699118      0      0   0.0000       1\n",
      "456       1  65.000000      0      0  26.5500       1\n",
      "500       3  17.000000      0      0   8.6625       1\n",
      "430       1  28.000000      0      0  26.5500       1\n",
      "\n",
      "[268 rows x 6 columns]\n"
     ]
    }
   ],
   "source": [
    "# Split into training and testing sets\n",
    "X_train, X_test, y_train, y_test = train_test_split(X, y, test_size=0.3, random_state=42)\n",
    "print(X_train)\n",
    "print(X_test)"
   ]
  },
  {
   "cell_type": "code",
   "execution_count": 11,
   "metadata": {},
   "outputs": [
    {
     "name": "stdout",
     "output_type": "stream",
     "text": [
      "     Pclass        Age  SibSp  Parch      Fare  Gender\n",
      "445       1   4.000000      0      2   81.8583       1\n",
      "650       3  29.699118      0      0    7.8958       1\n",
      "172       3   1.000000      1      1   11.1333       0\n",
      "450       2  36.000000      1      2   27.7500       1\n",
      "314       2  43.000000      1      1   26.2500       1\n",
      "..      ...        ...    ...    ...       ...     ...\n",
      "106       3  21.000000      0      0    7.6500       0\n",
      "270       1  29.699118      0      0   31.0000       1\n",
      "860       3  41.000000      2      0   14.1083       1\n",
      "435       1  14.000000      1      2  120.0000       0\n",
      "102       1  21.000000      0      1   77.2875       1\n",
      "\n",
      "[623 rows x 6 columns]\n",
      "     Pclass        Age  SibSp  Parch     Fare  Gender\n",
      "709       3  29.699118      1      1  15.2458       1\n",
      "439       2  31.000000      0      0  10.5000       1\n",
      "840       3  20.000000      0      0   7.9250       1\n",
      "720       2   6.000000      0      1  33.0000       0\n",
      "39        3  14.000000      1      0  11.2417       0\n",
      "..      ...        ...    ...    ...      ...     ...\n",
      "821       3  27.000000      0      0   8.6625       1\n",
      "633       1  29.699118      0      0   0.0000       1\n",
      "456       1  65.000000      0      0  26.5500       1\n",
      "500       3  17.000000      0      0   8.6625       1\n",
      "430       1  28.000000      0      0  26.5500       1\n",
      "\n",
      "[268 rows x 6 columns]\n",
      "     Survived\n",
      "445         1\n",
      "650         0\n",
      "172         1\n",
      "450         0\n",
      "314         0\n",
      "..        ...\n",
      "106         1\n",
      "270         0\n",
      "860         0\n",
      "435         1\n",
      "102         0\n",
      "\n",
      "[623 rows x 1 columns]\n",
      "     Survived\n",
      "709         1\n",
      "439         0\n",
      "840         0\n",
      "720         1\n",
      "39          1\n",
      "..        ...\n",
      "821         1\n",
      "633         0\n",
      "456         0\n",
      "500         0\n",
      "430         1\n",
      "\n",
      "[268 rows x 1 columns]\n"
     ]
    },
    {
     "name": "stderr",
     "output_type": "stream",
     "text": [
      "c:\\ProgramData\\anaconda3\\Lib\\site-packages\\sklearn\\utils\\validation.py:1339: DataConversionWarning: A column-vector y was passed when a 1d array was expected. Please change the shape of y to (n_samples, ), for example using ravel().\n",
      "  y = column_or_1d(y, warn=True)\n"
     ]
    }
   ],
   "source": [
    "#Model evaluation\n",
    "lr=LogisticRegression()\n",
    "lr.fit(X_train,y_train)\n",
    "\n",
    "y_pred_train=lr.predict(X_train)\n",
    "y_pred_test=lr.predict(X_test)\n",
    "\n",
    "print(X_train)\n",
    "print(X_test)\n",
    "print(y_train)\n",
    "print(y_test)"
   ]
  },
  {
   "cell_type": "code",
   "execution_count": 12,
   "metadata": {},
   "outputs": [
    {
     "data": {
      "image/png": "[encoded data removed]",
      "text/plain": [
       "<Figure size 640x480 with 2 Axes>"
      ]
     },
     "metadata": {},
     "output_type": "display_data"
    },
    {
     "name": "stdout",
     "output_type": "stream",
     "text": [
      "0.7961476725521669\n",
      "              precision    recall  f1-score   support\n",
      "\n",
      "           0       0.82      0.87      0.84       392\n",
      "           1       0.75      0.67      0.71       231\n",
      "\n",
      "    accuracy                           0.80       623\n",
      "   macro avg       0.79      0.77      0.78       623\n",
      "weighted avg       0.79      0.80      0.79       623\n",
      "\n"
     ]
    }
   ],
   "source": [
    "#Model Training\n",
    "\n",
    "confusion_matrix(y_train,y_pred_train)\n",
    "sns.heatmap(confusion_matrix(y_train,y_pred_train), annot=True, fmt='.3g')\n",
    "plt.title('Confusion matrix for model Evaluation')\n",
    "plt.xlabel('Predicted')\n",
    "plt.ylabel('Actual')\n",
    "plt.show()\n",
    "\n",
    "print(accuracy_score(y_train,y_pred_train))\n",
    "print(classification_report(y_train,y_pred_train))"
   ]
  },
  {
   "cell_type": "code",
   "execution_count": 12,
   "id": "264b1af7",
   "metadata": {},
   "outputs": [
    {
     "data": {
      "image/png": "[encoded data removed]",
      "text/plain": [
       "<Figure size 640x480 with 2 Axes>"
      ]
     },
     "metadata": {},
     "output_type": "display_data"
    },
    {
     "name": "stdout",
     "output_type": "stream",
     "text": [
      "0.8134328358208955\n",
      "              precision    recall  f1-score   support\n",
      "\n",
      "           0       0.81      0.89      0.85       157\n",
      "           1       0.81      0.71      0.76       111\n",
      "\n",
      "    accuracy                           0.81       268\n",
      "   macro avg       0.81      0.80      0.80       268\n",
      "weighted avg       0.81      0.81      0.81       268\n",
      "\n"
     ]
    }
   ],
   "source": [
    "# Model Test\n",
    "\n",
    "cm = confusion_matrix(y_test, y_pred_test)\n",
    "sns.heatmap(cm, annot=True, fmt='.3g')\n",
    "plt.title('Confusion matrix for model Evaluation')\n",
    "plt.xlabel('Predicted')\n",
    "plt.ylabel('Actual')\n",
    "plt.show()\n",
    "\n",
    "print(accuracy_score(y_test,y_pred_test))\n",
    "print(classification_report(y_test,y_pred_test))"
   ]
  }
 ],
 "metadata": {
  "kernelspec": {
   "display_name": "base",
   "language": "python",
   "name": "python3"
  },
  "language_info": {
   "codemirror_mode": {
    "name": "ipython",
    "version": 3
   },
   "file_extension": ".py",
   "mimetype": "text/x-python",
   "name": "python",
   "nbconvert_exporter": "python",
   "pygments_lexer": "ipython3",
   "version": "3.12.7"
  }
 },
 "nbformat": 4,
 "nbformat_minor": 5
}
